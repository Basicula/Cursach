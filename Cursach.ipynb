{
 "cells": [
  {
   "cell_type": "code",
   "execution_count": 1,
   "metadata": {},
   "outputs": [],
   "source": [
    "#imports\n",
    "import numpy as np\n",
    "import matplotlib.pyplot as plt"
   ]
  },
  {
   "cell_type": "code",
   "execution_count": 2,
   "metadata": {},
   "outputs": [],
   "source": [
    "#global variables\n",
    "minDepth = 0\n",
    "step = 10"
   ]
  },
  {
   "cell_type": "code",
   "execution_count": 3,
   "metadata": {},
   "outputs": [],
   "source": [
    "#change mindepth for lower bound of grid\n",
    "def setMinDepth(value):\n",
    "    global minDepth\n",
    "    \n",
    "    minDepth = value"
   ]
  },
  {
   "cell_type": "code",
   "execution_count": 4,
   "metadata": {},
   "outputs": [],
   "source": [
    "def intersectionEdges(edge1,edge2):\n",
    "    k1 = (edge1[0][1] - edge1[1][1])/(edge1[0][0] - edge1[1][0])\n",
    "    b1 = edge1[0][1] - k1 * edge1[0][0]\n",
    "    k2 = (edge2[0][1] - edge2[1][1])/(edge2[0][0] - edge2[1][0])\n",
    "    b2 = edge2[0][1] - k2 * edge2[0][0]\n",
    "    if (edge2[0][1] - edge2[0][0] * k1 - b1)*(edge2[1][1] - edge2[1][0] * k1 - b1) <= 0 and (edge1[0][1] - edge1[0][0] * k2 - b2)*(edge1[1][1] - edge1[1][0] * k2 - b2) <= 0:\n",
    "        return True\n",
    "    return False"
   ]
  },
  {
   "cell_type": "code",
   "execution_count": 12,
   "metadata": {},
   "outputs": [],
   "source": [
    "#generate random input curve(landscape)\n",
    "def generateInput(length):\n",
    "    x = np.linspace(0,(length-1)*10,length)\n",
    "    y = np.random.randint(10,size = length)\n",
    "    curve = np.stack((x,y),axis = -1)\n",
    "    return curve"
   ]
  },
  {
   "cell_type": "code",
   "execution_count": 6,
   "metadata": {},
   "outputs": [],
   "source": [
    "#shows input curve\n",
    "def drawCurve(curve):\n",
    "    plt.plot(curve[:,0],curve[:,1],'b')\n",
    "    plt.plot(curve[:,0],curve[:,1],'ro')"
   ]
  },
  {
   "cell_type": "code",
   "execution_count": 7,
   "metadata": {},
   "outputs": [],
   "source": [
    "#vertical lines for grid\n",
    "def drawVerticalLines(curve):\n",
    "    for x,y in curve:\n",
    "        plt.plot([x,x],[y,minDepth],'r')"
   ]
  },
  {
   "cell_type": "code",
   "execution_count": 8,
   "metadata": {},
   "outputs": [],
   "source": [
    "def addSupportPoints(curve):\n",
    "    for yel in curve[:,1]:\n",
    "        k = []\n",
    "        for i in range(0,curve.shape[0]):\n",
    "            if curve[i][1] == yel:\n",
    "                k = np.append(k,i)\n",
    "        for ind in k:\n",
    "            l = int(ind)\n",
    "            r = int(ind)\n",
    "            while l>=0 and curve[l][1]>=yel:\n",
    "                l-=1\n",
    "            if ind - l>1 and l>=0:\n",
    "                dx = (curve[l+1][0] - curve[l][0])*(curve[l+1][1]-yel)/(curve[l+1][1]-curve[l][1])\n",
    "                newx = curve[l+1][0] - dx\n",
    "                curve = np.insert(curve,l+1,[newx,yel],axis = 0)\n",
    "            while r<curve.shape[0] and curve[r][1]>=yel:\n",
    "                r+=1\n",
    "            if r - ind >1 and r<curve.shape[0]:\n",
    "                dx = (curve[r][0] - curve[r-1][0])*(curve[r-1][1]-yel)/(curve[r-1][1]-curve[r][1])\n",
    "                newx = curve[r-1][0] + dx\n",
    "                curve = np.insert(curve,r,[newx,yel],axis = 0)\n",
    "    return curve\n",
    "                \n",
    "def addSupportPointsWholeCurve(curve):\n",
    "    for i in range(1,curve.shape[0]):\n",
    "        if (curve[i][1]-yel)*(curve[i-1][1]-yel) < 0:\n",
    "            dx = (curve[i][0] - curve[i-1][0])*abs(curve[i-1][1]-yel)/abs(curve[i][1]-curve[i-1][1])\n",
    "            newx = curve[i-1][0] + dx\n",
    "            curve = np.insert(curve,i,[newx,yel],axis = 0)\n",
    "    return curve"
   ]
  },
  {
   "cell_type": "code",
   "execution_count": 9,
   "metadata": {},
   "outputs": [],
   "source": [
    "def drawHorizontalLines(curve):\n",
    "    global minDepth\n",
    "    \n",
    "    y = np.array(curve[:,1],copy=True)\n",
    "    y.sort()\n",
    "    miny = y[0]\n",
    "    maxy = y[y.shape[0]-1]\n",
    "    minx = min(curve[:,0])\n",
    "    maxx = max(curve[:,0])\n",
    "    for yel in y:\n",
    "        pointsOnLine = [[0,yel]]\n",
    "        for i in range(0,curve.shape[0]):\n",
    "            if curve[i][1] == yel:\n",
    "                pointsOnLine = np.append(pointsOnLine,[[i,yel]],axis = 0)\n",
    "        if pointsOnLine[-1][0] != curve.shape[0]-1:\n",
    "            pointsOnLine = np.append(pointsOnLine,[[curve.shape[0]-1,yel]],axis = 0)\n",
    "        for i in range(1,pointsOnLine.shape[0]):\n",
    "            i1 = int(pointsOnLine[i-1][0])\n",
    "            i2 = int(pointsOnLine[i][0])\n",
    "            curry = pointsOnLine[i][1]\n",
    "            if curve[i1+1][1] >= pointsOnLine[i][1] and curve[i2-1][1] >= pointsOnLine[i][1]:\n",
    "                    plt.plot([curve[i1][0],curve[i2][0]],[curry,curry],'g')\n",
    "    if (miny - minDepth)%step != 0:\n",
    "        minDepth -= (miny - minDepth)%step\n",
    "    miny-=step\n",
    "    while miny>=minDepth:\n",
    "        plt.plot([minx,maxx],[miny,miny],'g')\n",
    "        miny-=step"
   ]
  },
  {
   "cell_type": "code",
   "execution_count": 13,
   "metadata": {},
   "outputs": [
    {
     "data": {
      "image/png": "[encoded data removed]",
      "text/plain": [
       "<Figure size 432x288 with 1 Axes>"
      ]
     },
     "metadata": {
      "needs_background": "light"
     },
     "output_type": "display_data"
    }
   ],
   "source": [
    "curve = generateInput(10)\n",
    "drawCurve(curve)\n",
    "plt.show()"
   ]
  },
  {
   "cell_type": "code",
   "execution_count": 14,
   "metadata": {},
   "outputs": [
    {
     "data": {
      "image/png": "[encoded data removed]",
      "text/plain": [
       "<Figure size 432x288 with 1 Axes>"
      ]
     },
     "metadata": {
      "needs_background": "light"
     },
     "output_type": "display_data"
    }
   ],
   "source": [
    "setMinDepth(-5)\n",
    "newcurve = addSupportPoints(curve)\n",
    "#curve = addSupportPointsWholeCurve(curve)\n",
    "drawCurve(newcurve)\n",
    "drawHorizontalLines(newcurve)\n",
    "drawVerticalLines(newcurve)"
   ]
  },
  {
   "cell_type": "code",
   "execution_count": 64,
   "metadata": {},
   "outputs": [
    {
     "data": {
      "text/plain": [
       "False"
      ]
     },
     "execution_count": 64,
     "metadata": {},
     "output_type": "execute_result"
    }
   ],
   "source": [
    "intersectionEdges([[0,0],[2,2]],[[1.0000000000001,0.999999999999],[2,0]])"
   ]
  }
 ],
 "metadata": {
  "kernelspec": {
   "display_name": "Python 3",
   "language": "python",
   "name": "python3"
  },
  "language_info": {
   "codemirror_mode": {
    "name": "ipython",
    "version": 3
   },
   "file_extension": ".py",
   "mimetype": "text/x-python",
   "name": "python",
   "nbconvert_exporter": "python",
   "pygments_lexer": "ipython3",
   "version": "3.7.1"
  }
 },
 "nbformat": 4,
 "nbformat_minor": 2
}
